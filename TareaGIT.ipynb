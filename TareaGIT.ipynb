{
 "cells": [
  {
   "attachments": {},
   "cell_type": "markdown",
   "metadata": {},
   "source": [
    "# *APRENDIENDO GIT*"
   ]
  },
  {
   "attachments": {},
   "cell_type": "markdown",
   "metadata": {},
   "source": [
    "Version control systems (**VCSs**) son herramientas que permiten rastrear las modificaciones que se realizan a un código fuente, colecciones de archivos o carpetas, esto permite mantener el historial de cambios, facilitando a su vez el trabajo compartido.\n",
    "Estar herramientas hacen un seguimiento de los cambios en los archivos por medio de snapshots, en la cual, cada una atrapa el estado del archivo dentro de un directorio superior. Estos VCS también nos pueden proporcionar metadatos de los archivos, como el usuario que modificó el documento, los mensajes de cada snapshot, etc. \n"
   ]
  },
  {
   "attachments": {},
   "cell_type": "markdown",
   "metadata": {},
   "source": [
    "### *¿Por qué son útiles?*"
   ]
  },
  {
   "attachments": {},
   "cell_type": "markdown",
   "metadata": {},
   "source": [
    "Podemos ver su utilidad en dos dimensiones:"
   ]
  },
  {
   "attachments": {},
   "cell_type": "markdown",
   "metadata": {},
   "source": [
    "|               Solitario                     |                  Colaborativo                                        |\n",
    "|:------------------------------------|:-------------------------------------------------------------|\n",
    "|Podemos ver snapshots antiguas de un proyecto|Ver usuarios que han modificado un documento o carpeta                |\n",
    "|Mantener un historial de los cambios         | Mejor orden a la hora de resolver conflictos de desarrollo recurrentes| \n",
    "|Trabajar en paralelo un desarrollo           |                                                                      |\n"
   ]
  },
  {
   "cell_type": "markdown",
   "metadata": {},
   "source": [
    "### *¿Qué permiten los VCS modernos?*"
   ]
  },
  {
   "attachments": {},
   "cell_type": "markdown",
   "metadata": {},
   "source": [
    "* Quién escribió determinado módulo\n",
    "* Fecha y hora de  edición de un archivo, así como el responsable y la razón\n",
    "* Durante determinada revisión, ¿cuándo/por qué dejó de funcionar una prueba unitaria en particular?\n"
   ]
  },
  {
   "attachments": {},
   "cell_type": "markdown",
   "metadata": {},
   "source": [
    "### Existen diferentes tipos de VCS, como por ejemplo:"
   ]
  },
  {
   "attachments": {},
   "cell_type": "markdown",
   "metadata": {},
   "source": [
    "1. CVS:\n",
    "Modelo de repositorio entre cliente/servidor donde diferentes desarrolladores trabajan paralelamente en un proyecto. El cliente CVS mantendrá actualizada la copia de trabajo del archivo y si hay conflicto de edición, se puede intervenir manualmente.\n",
    "2. Apache Subversion (SVN)\n",
    "También un modelo de cliente y servidor, aquí los directorios se encuentran divididos en versiones junto con las operaciones de copia, eliminación, movimiento y cambio de nombre.\n",
    "3. Mercurial\n",
    "Es una herramienta distribuida de control de versiones, escrita en Python, principalmente diseñada  para desarrolladores de software. Esta tiene alto rendimiento y escalabilidad, con una interfaz web.\n",
    "4. Monotone\n",
    "También es una herramienta distribuida de control de versiones, pero escrita en c++. Brinda un buen apoyo para la internacionalización y localización.\n",
    "\n"
   ]
  },
  {
   "attachments": {},
   "cell_type": "markdown",
   "metadata": {},
   "source": [
    "*Git es una de las mejores herramientas disponibles en el mercado actual, con gran capacidad de manejar distintos tamaños de proyectos de forma eficiente.  A pesar de que tenga una interfaz poco entendible, propone buenas ideas y diseño.*"
   ]
  }
 ],
 "metadata": {
  "kernelspec": {
   "display_name": "base",
   "language": "python",
   "name": "python3"
  },
  "language_info": {
   "name": "python",
   "version": "3.9.13"
  },
  "orig_nbformat": 4,
  "vscode": {
   "interpreter": {
    "hash": "85bd67d4d7d554baee8d139683a9c50a3ff3403cfaf5912975262193447db92d"
   }
  }
 },
 "nbformat": 4,
 "nbformat_minor": 2
}
