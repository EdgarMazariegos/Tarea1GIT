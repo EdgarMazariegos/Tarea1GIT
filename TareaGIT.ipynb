{
 "cells": [
  {
   "attachments": {},
   "cell_type": "markdown",
   "metadata": {},
   "source": [
    "# *APRENDIENDO GIT*"
   ]
  },
  {
   "attachments": {},
   "cell_type": "markdown",
   "metadata": {},
   "source": [
    "Version control systems (**VCSs**) son herramientas que permiten rastrear las modificaciones que se realizan a un código fuente, colecciones de archivos o carpetas, esto permite mantener el historial de cambios, facilitando a su vez el trabajo compartido.\n",
    "Estar herramientas hacen un seguimiento de los cambios en los archivos por medio de snapshots, en la cual, cada una atrapa el estado del archivo dentro de un directorio superior. Estos VCS también nos pueden proporcionar metadatos de los archivos, como el usuario que modificó el documento, los mensajes de cada snapshot, etc. \n"
   ]
  }
 ],
 "metadata": {
  "kernelspec": {
   "display_name": "base",
   "language": "python",
   "name": "python3"
  },
  "language_info": {
   "name": "python",
   "version": "3.9.13"
  },
  "orig_nbformat": 4,
  "vscode": {
   "interpreter": {
    "hash": "85bd67d4d7d554baee8d139683a9c50a3ff3403cfaf5912975262193447db92d"
   }
  }
 },
 "nbformat": 4,
 "nbformat_minor": 2
}
